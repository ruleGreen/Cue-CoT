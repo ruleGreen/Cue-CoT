{
 "cells": [
  {
   "cell_type": "code",
   "execution_count": null,
   "metadata": {},
   "outputs": [],
   "source": [
    "import json\n",
    "import random\n",
    "\n",
    "def read_json(filename):\n",
    "    with open(filename, \"r\") as f:\n",
    "        result = json.load(f)\n",
    "    return result\n",
    "\n",
    "def read_jsonl(filename):\n",
    "    with open(filename, \"r\") as f:\n",
    "        result = [json.loads(line) for line in f.readlines()]\n",
    "    return result\n",
    "\n",
    "def save_json(filename, data):\n",
    "    with open(filename, \"w\") as f:\n",
    "        json.dump(data, f, indent=4, ensure_ascii=False)\n",
    "\n",
    "\n",
    "# psyqa -> PsyQA_full.json\n",
    "psyqa_path = \"./chinese/PsyQA/PsyQA_full.json\"   # Put your PsyQA full path here.\n",
    "psyqa_raw = read_json(psyqa_path)\n",
    "print(\"Number of samples in PsyQA before: {}\".format(len(psyqa_raw)))\n",
    "psyqa_hard, psyqa_easy, psyqa_middle = [], [], []\n",
    "for sample in psyqa_raw:\n",
    "    flag = False\n",
    "    for ans in sample[\"answers\"]:\n",
    "        if ans[\"has_label\"]: # highest-voted answers with strategy annotation\n",
    "            flag = True\n",
    "            psyqa_hard.append(sample)\n",
    "    if not flag:\n",
    "        sample[\"answers\"] = [sample[\"answers\"][0]]\n",
    "        psyqa_easy.append(sample)\n",
    "\n",
    "print(\"Number of sample which has labels: {}\".format(len(psyqa_hard)))\n",
    "print(\"Number of sample which do not have labels: {}\".format(len(psyqa_easy)))\n",
    "filter_psyqa_hard = [sample for sample in psyqa_hard if len(sample[\"question\"]) > 23][:1000]\n",
    "print(\"Number of samples after removing too short for hard version: {}\".format(len(filter_psyqa_hard)))\n",
    "save_json(\"./preprocessed/chinese/psyqa/test.json\", filter_psyqa_hard)"
   ]
  }
 ],
 "metadata": {
  "language_info": {
   "name": "python"
  },
  "orig_nbformat": 4
 },
 "nbformat": 4,
 "nbformat_minor": 2
}
